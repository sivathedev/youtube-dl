{
 "cells": [
  {
   "cell_type": "code",
   "execution_count": 1,
   "metadata": {},
   "outputs": [
    {
     "name": "stdout",
     "output_type": "stream",
     "text": [
      "Requirement already satisfied: youtube-dl in c:\\users\\sivar\\desktop\\sample_project_1\\env\\lib\\site-packages (2020.7.28)\n",
      "Note: you may need to restart the kernel to use updated packages.\n"
     ]
    }
   ],
   "source": [
    "pip install youtube-dl"
   ]
  },
  {
   "cell_type": "code",
   "execution_count": 5,
   "metadata": {},
   "outputs": [
    {
     "name": "stdout",
     "output_type": "stream",
     "text": [
      "[youtube] FLd1ttJeig4: Downloading webpage\n",
      "[youtube] FLd1ttJeig4: Downloading js player 54d6fa95\n",
      "[youtube] FLd1ttJeig4: Downloading js player 54d6fa95\n",
      "[youtube] FLd1ttJeig4: Downloading MPD manifest\n",
      "[download] Destination: Fitness-FLd1ttJeig4.mp4\n",
      "[download] 100% of 833.18MiB in 14:36                     \n"
     ]
    }
   ],
   "source": [
    "from __future__ import unicode_literals\n",
    "import youtube_dl\n",
    "youtube={}\n",
    "with youtube_dl.YoutubeDL(youtube)as y:\n",
    "    y.download([\"https://www.youtube.com/watch?v=FLd1ttJeig4&feature=youtu.be\"])"
   ]
  },
  {
   "cell_type": "code",
   "execution_count": null,
   "metadata": {},
   "outputs": [],
   "source": []
  }
 ],
 "metadata": {
  "kernelspec": {
   "display_name": "Python 3",
   "language": "python",
   "name": "python3"
  },
  "language_info": {
   "codemirror_mode": {
    "name": "ipython",
    "version": 3
   },
   "file_extension": ".py",
   "mimetype": "text/x-python",
   "name": "python",
   "nbconvert_exporter": "python",
   "pygments_lexer": "ipython3",
   "version": "3.8.3"
  }
 },
 "nbformat": 4,
 "nbformat_minor": 4
}
